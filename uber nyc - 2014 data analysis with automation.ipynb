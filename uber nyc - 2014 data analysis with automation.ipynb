{
 "cells": [
  {
   "cell_type": "code",
   "execution_count": null,
   "id": "4655950e",
   "metadata": {},
   "outputs": [],
   "source": [
    "import pandas as pd\n",
    "import numpy as np\n",
    "import matplotlib.pyplot as plt\n",
    "import seaborn as sns\n",
    "\n",
    "import os"
   ]
  },
  {
   "cell_type": "markdown",
   "id": "f1c92f30",
   "metadata": {},
   "source": [
    "# Geospatial Heatmap Analysis"
   ]
  },
  {
   "cell_type": "code",
   "execution_count": null,
   "id": "7d8abea7",
   "metadata": {},
   "outputs": [],
   "source": [
    "# What locations in NYC we get rush at?"
   ]
  },
  {
   "cell_type": "code",
   "execution_count": null,
   "id": "69757b09",
   "metadata": {},
   "outputs": [],
   "source": [
    "uber_14.columns"
   ]
  },
  {
   "cell_type": "code",
   "execution_count": null,
   "id": "9c4ebfb0",
   "metadata": {},
   "outputs": [],
   "source": [
    "# Create a rush map with given data longitude and latitude.\n",
    "\n",
    "rush_map = uber_14.groupby(['Lat','Lon'], as_index=False).size()\n",
    "rush_map"
   ]
  },
  {
   "cell_type": "code",
   "execution_count": null,
   "id": "20d622fe",
   "metadata": {},
   "outputs": [],
   "source": [
    "!pip install folium"
   ]
  },
  {
   "cell_type": "code",
   "execution_count": null,
   "id": "59756548",
   "metadata": {},
   "outputs": [],
   "source": [
    "import folium\n",
    "\n",
    "basemap = folium.Map()  # Create a basemap as a first step\n",
    "basemap"
   ]
  },
  {
   "cell_type": "code",
   "execution_count": null,
   "id": "c1c88235",
   "metadata": {},
   "outputs": [],
   "source": [
    "from folium.plugins import HeatMap"
   ]
  },
  {
   "cell_type": "code",
   "execution_count": null,
   "id": "286ee1bc",
   "metadata": {
    "scrolled": true
   },
   "outputs": [],
   "source": [
    "# Visualize the rush_map on the basemap as a last step\n",
    "\n",
    "HeatMap(rush_map).add_to(basemap) \n",
    "\n",
    "basemap"
   ]
  },
  {
   "cell_type": "code",
   "execution_count": null,
   "id": "c1a69319",
   "metadata": {},
   "outputs": [],
   "source": [
    "# Conclude that midtown Manhattan is a popular spot for Uber pickups in NYC."
   ]
  },
  {
   "cell_type": "code",
   "execution_count": null,
   "id": "7388be13",
   "metadata": {},
   "outputs": [],
   "source": []
  },
  {
   "cell_type": "markdown",
   "id": "23607c69",
   "metadata": {},
   "source": [
    "# Pairwise Comparison with Hour and Weekday"
   ]
  },
  {
   "cell_type": "code",
   "execution_count": null,
   "id": "aa27dbdd",
   "metadata": {},
   "outputs": [],
   "source": [
    "# Analyze rush "
   ]
  },
  {
   "cell_type": "code",
   "execution_count": null,
   "id": "9e9af116",
   "metadata": {},
   "outputs": [],
   "source": [
    "uber_14.columns"
   ]
  },
  {
   "cell_type": "code",
   "execution_count": null,
   "id": "4c08cc18",
   "metadata": {},
   "outputs": [],
   "source": [
    "# Extract day and hour from the uber_14['Date/Time']\n",
    "\n",
    "uber_14['Day']=uber_14['Date/Time'].dt.day\n",
    "uber_14['Hour']=uber_14['Date/Time'].dt.hour\n",
    "uber_14['Minute']=uber_14['Date/Time'].dt.minute\n",
    "uber_14['Weekday']=uber_14['Date/Time'].dt.day_name()"
   ]
  },
  {
   "cell_type": "code",
   "execution_count": null,
   "id": "a35f9a51",
   "metadata": {},
   "outputs": [],
   "source": [
    "uber_14.head()"
   ]
  },
  {
   "cell_type": "code",
   "execution_count": null,
   "id": "b959eb3a",
   "metadata": {},
   "outputs": [],
   "source": [
    "# Group data by Day and Hour\n",
    "\n",
    "pivot= uber_14.groupby(['Day', 'Hour']).size().unstack()\n",
    "\n",
    "# Apply gradient styling to the pivot table\n",
    "styled_pivot = pivot.style.background_gradient(cmap='coolwarm')\n",
    "\n",
    "# Display the styled pivot table\n",
    "styled_pivot"
   ]
  },
  {
   "cell_type": "code",
   "execution_count": null,
   "id": "c207eb5b",
   "metadata": {},
   "outputs": [],
   "source": [
    "# This colormap transitions from blue to red, with blue representing lower values and red representing higher values."
   ]
  },
  {
   "cell_type": "markdown",
   "id": "d8fe7678",
   "metadata": {},
   "source": [
    "# Automate Pairwise Analysis"
   ]
  },
  {
   "cell_type": "code",
   "execution_count": null,
   "id": "1e80b4f4",
   "metadata": {},
   "outputs": [],
   "source": [
    "# Pairwise analysis can be automated with a function which is useful for large datasets with more columns."
   ]
  },
  {
   "cell_type": "code",
   "execution_count": null,
   "id": "e8b72d8e",
   "metadata": {},
   "outputs": [],
   "source": [
    "# Define a function that generates a pivot table with two choosen column from the dataframe with gradient style. \n",
    "\n",
    "def gradient_pivot(df, col1, col2):\n",
    "    pivot= df.groupby([col1, col2]).size().unstack()\n",
    "    return pivot.style.background_gradient(cmap='coolwarm')\n"
   ]
  },
  {
   "cell_type": "code",
   "execution_count": null,
   "id": "ae9f45f1",
   "metadata": {},
   "outputs": [],
   "source": [
    "# Display the pivot table with the cells from blue to red, with the redder the color, the higher the rush.\n",
    "\n",
    "gradient_pivot(uber_14, 'Weekday', 'Hour')"
   ]
  },
  {
   "cell_type": "code",
   "execution_count": null,
   "id": "47ed214e",
   "metadata": {},
   "outputs": [],
   "source": []
  }
 ],
 "metadata": {
  "kernelspec": {
   "display_name": "Python 3 (ipykernel)",
   "language": "python",
   "name": "python3"
  },
  "language_info": {
   "codemirror_mode": {
    "name": "ipython",
    "version": 3
   },
   "file_extension": ".py",
   "mimetype": "text/x-python",
   "name": "python",
   "nbconvert_exporter": "python",
   "pygments_lexer": "ipython3",
   "version": "3.11.3"
  }
 },
 "nbformat": 4,
 "nbformat_minor": 5
}
