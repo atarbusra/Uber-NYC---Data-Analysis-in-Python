{
 "cells": [
  {
   "cell_type": "code",
   "execution_count": 2,
   "id": "4655950e",
   "metadata": {},
   "outputs": [],
   "source": [
    "import pandas as pd\n",
    "import numpy as np\n",
    "import matplotlib.pyplot as plt\n",
    "import seaborn as sns\n",
    "\n",
    "import os"
   ]
  },
  {
   "cell_type": "markdown",
   "id": "7060e99d",
   "metadata": {},
   "source": [
    "# Collect and Prepare Annual Data 2014 "
   ]
  },
  {
   "cell_type": "code",
   "execution_count": 3,
   "id": "7ea0d7d7",
   "metadata": {},
   "outputs": [
    {
     "data": {
      "text/plain": [
       "['other-American_B01362.csv',\n",
       " 'other-Carmel_B00256.csv',\n",
       " 'other-Dial7_B00887.csv',\n",
       " 'other-Diplo_B01196.csv',\n",
       " 'other-Federal_02216.csv',\n",
       " 'other-FHV-services_jan-aug-2015.csv',\n",
       " 'other-Firstclass_B01536.csv',\n",
       " 'other-Highclass_B01717.csv',\n",
       " 'other-Lyft_B02510.csv',\n",
       " 'other-Prestige_B01338.csv',\n",
       " 'other-Skyline_B00111.csv',\n",
       " 'Uber-Jan-Feb-FOIL.csv',\n",
       " 'uber-raw-data-apr14.csv',\n",
       " 'uber-raw-data-aug14.csv',\n",
       " 'uber-raw-data-janjune-15.csv',\n",
       " 'uber-raw-data-janjune-15_sample.csv',\n",
       " 'uber-raw-data-jul14.csv',\n",
       " 'uber-raw-data-jun14.csv',\n",
       " 'uber-raw-data-may14.csv',\n",
       " 'uber-raw-data-sep14.csv']"
      ]
     },
     "execution_count": 3,
     "metadata": {},
     "output_type": "execute_result"
    }
   ],
   "source": [
    "os.listdir(r\"C:\\Users\\atarb\\OneDrive\\Desktop\\data analysis w Python\\Uber\\Datasets\")"
   ]
  },
  {
   "cell_type": "code",
   "execution_count": null,
   "id": "d2e32e69",
   "metadata": {},
   "outputs": [],
   "source": []
  },
  {
   "cell_type": "code",
   "execution_count": 5,
   "id": "01dc8dd7",
   "metadata": {},
   "outputs": [
    {
     "data": {
      "text/plain": [
       "['uber-raw-data-apr14.csv',\n",
       " 'uber-raw-data-aug14.csv',\n",
       " 'uber-raw-data-janjune-15.csv',\n",
       " 'uber-raw-data-janjune-15_sample.csv',\n",
       " 'uber-raw-data-jul14.csv',\n",
       " 'uber-raw-data-jun14.csv',\n",
       " 'uber-raw-data-may14.csv',\n",
       " 'uber-raw-data-sep14.csv']"
      ]
     },
     "execution_count": 5,
     "metadata": {},
     "output_type": "execute_result"
    }
   ],
   "source": [
    "files= os.listdir(r\"C:\\Users\\atarb\\OneDrive\\Desktop\\data analysis w Python\\Uber\\Datasets\") [-8:]\n",
    "files"
   ]
  },
  {
   "cell_type": "code",
   "execution_count": 6,
   "id": "4f4a39af",
   "metadata": {},
   "outputs": [
    {
     "data": {
      "text/plain": [
       "['uber-raw-data-apr14.csv',\n",
       " 'uber-raw-data-aug14.csv',\n",
       " 'uber-raw-data-jul14.csv',\n",
       " 'uber-raw-data-jun14.csv',\n",
       " 'uber-raw-data-may14.csv',\n",
       " 'uber-raw-data-sep14.csv']"
      ]
     },
     "execution_count": 6,
     "metadata": {},
     "output_type": "execute_result"
    }
   ],
   "source": [
    "# Remove 2015 data\n",
    "\n",
    "files.remove('uber-raw-data-janjune-15.csv')\n",
    "files.remove('uber-raw-data-janjune-15_sample.csv')\n",
    "files"
   ]
  },
  {
   "cell_type": "code",
   "execution_count": 8,
   "id": "523501f0",
   "metadata": {},
   "outputs": [],
   "source": [
    "# Concatenate all the files in one .csv table\n",
    "\n",
    "uber_14 = pd.DataFrame()\n",
    "path = r\"C:\\Users\\atarb\\OneDrive\\Desktop\\data analysis w Python\\Uber\\Datasets\"\n",
    "\n",
    "for file in files:\n",
    "    current_df = pd.read_csv(path + \"/\" + file)\n",
    "    uber_14 = pd.concat([current_df, uber_14])\n"
   ]
  },
  {
   "cell_type": "code",
   "execution_count": 9,
   "id": "a98650f2",
   "metadata": {},
   "outputs": [
    {
     "data": {
      "text/plain": [
       "82581"
      ]
     },
     "execution_count": 9,
     "metadata": {},
     "output_type": "execute_result"
    }
   ],
   "source": [
    "# Check duplicates\n",
    "\n",
    "uber_14.duplicated().sum()"
   ]
  },
  {
   "cell_type": "code",
   "execution_count": 10,
   "id": "0118f32d",
   "metadata": {},
   "outputs": [],
   "source": [
    " # Remove duplicated rows\n",
    "    \n",
    "uber_14.drop_duplicates(inplace=True)"
   ]
  },
  {
   "cell_type": "code",
   "execution_count": 11,
   "id": "40effce7",
   "metadata": {},
   "outputs": [
    {
     "data": {
      "text/plain": [
       "0"
      ]
     },
     "execution_count": 11,
     "metadata": {},
     "output_type": "execute_result"
    }
   ],
   "source": [
    "uber_14.duplicated().sum()"
   ]
  },
  {
   "cell_type": "code",
   "execution_count": 12,
   "id": "c55ed414",
   "metadata": {},
   "outputs": [
    {
     "data": {
      "text/plain": [
       "Date/Time    0\n",
       "Lat          0\n",
       "Lon          0\n",
       "Base         0\n",
       "dtype: int64"
      ]
     },
     "execution_count": 12,
     "metadata": {},
     "output_type": "execute_result"
    }
   ],
   "source": [
    "# Check missing values\n",
    "\n",
    "uber_14.isnull().sum()"
   ]
  },
  {
   "cell_type": "code",
   "execution_count": 13,
   "id": "f620c0a0",
   "metadata": {},
   "outputs": [
    {
     "data": {
      "text/plain": [
       "Index(['Date/Time', 'Lat', 'Lon', 'Base'], dtype='object')"
      ]
     },
     "execution_count": 13,
     "metadata": {},
     "output_type": "execute_result"
    }
   ],
   "source": [
    "uber_14.columns"
   ]
  },
  {
   "cell_type": "code",
   "execution_count": 14,
   "id": "1894cb7b",
   "metadata": {},
   "outputs": [
    {
     "data": {
      "text/plain": [
       "Date/Time     object\n",
       "Lat          float64\n",
       "Lon          float64\n",
       "Base          object\n",
       "dtype: object"
      ]
     },
     "execution_count": 14,
     "metadata": {},
     "output_type": "execute_result"
    }
   ],
   "source": [
    "# Check data types\n",
    "\n",
    "uber_14.dtypes"
   ]
  },
  {
   "cell_type": "code",
   "execution_count": 15,
   "id": "0b5516bd",
   "metadata": {},
   "outputs": [
    {
     "data": {
      "text/plain": [
       "0    9/1/2014 0:01:00\n",
       "0    5/1/2014 0:02:00\n",
       "0    6/1/2014 0:00:00\n",
       "0    7/1/2014 0:03:00\n",
       "0    8/1/2014 0:03:00\n",
       "0    4/1/2014 0:11:00\n",
       "Name: Date/Time, dtype: object"
      ]
     },
     "execution_count": 15,
     "metadata": {},
     "output_type": "execute_result"
    }
   ],
   "source": [
    "uber_14['Date/Time'][0]"
   ]
  },
  {
   "cell_type": "code",
   "execution_count": 16,
   "id": "9a9050bc",
   "metadata": {},
   "outputs": [],
   "source": [
    "# Change data type of final['Date/Time'] to datetime\n",
    "\n",
    "uber_14['Date/Time'] = pd.to_datetime(uber_14['Date/Time'], format= '%m/%d/%Y %H:%M:%S')"
   ]
  },
  {
   "cell_type": "code",
   "execution_count": 17,
   "id": "d2f77259",
   "metadata": {},
   "outputs": [
    {
     "data": {
      "text/plain": [
       "0   2014-09-01 00:01:00\n",
       "0   2014-05-01 00:02:00\n",
       "0   2014-06-01 00:00:00\n",
       "0   2014-07-01 00:03:00\n",
       "0   2014-08-01 00:03:00\n",
       "0   2014-04-01 00:11:00\n",
       "Name: Date/Time, dtype: datetime64[ns]"
      ]
     },
     "execution_count": 17,
     "metadata": {},
     "output_type": "execute_result"
    }
   ],
   "source": [
    "uber_14['Date/Time'][0]"
   ]
  },
  {
   "cell_type": "code",
   "execution_count": null,
   "id": "489bb686",
   "metadata": {},
   "outputs": [],
   "source": []
  }
 ],
 "metadata": {
  "kernelspec": {
   "display_name": "Python 3 (ipykernel)",
   "language": "python",
   "name": "python3"
  },
  "language_info": {
   "codemirror_mode": {
    "name": "ipython",
    "version": 3
   },
   "file_extension": ".py",
   "mimetype": "text/x-python",
   "name": "python",
   "nbconvert_exporter": "python",
   "pygments_lexer": "ipython3",
   "version": "3.11.3"
  }
 },
 "nbformat": 4,
 "nbformat_minor": 5
}
